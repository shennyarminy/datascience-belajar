{
 "metadata": {
  "language_info": {
   "codemirror_mode": {
    "name": "ipython",
    "version": 3
   },
   "file_extension": ".py",
   "mimetype": "text/x-python",
   "name": "python",
   "nbconvert_exporter": "python",
   "pygments_lexer": "ipython3",
   "version": "3.8.5-final"
  },
  "orig_nbformat": 2,
  "kernelspec": {
   "name": "Python 3.8.5 32-bit",
   "display_name": "Python 3.8.5 32-bit",
   "metadata": {
    "interpreter": {
     "hash": "7987c57931f2365761dc2a5f85e647decf73af6edff0c78918b92bfe7c5512ba"
    }
   }
  }
 },
 "nbformat": 4,
 "nbformat_minor": 2,
 "cells": [
  {
   "cell_type": "code",
   "execution_count": 1,
   "metadata": {
    "tags": []
   },
   "outputs": [
    {
     "output_type": "stream",
     "name": "stdout",
     "text": [
      "        Country/Region  Confirmed  Deaths  Recovered  Active  New cases  \\\n3              Andorra        907      52        803      52         10   \n4               Angola        950      41        242     667         18   \n5  Antigua and Barbuda         86       3         65      18          4   \n6            Argentina     167416    3059      72575   91782       4890   \n7              Armenia      37390     711      26665   10014         73   \n8            Australia      15303     167       9311    5825        368   \n9              Austria      20558     713      18246    1599         86   \n\n   New deaths  New recovered  Deaths / 100 Cases  Recovered / 100 Cases  \\\n3           0              0                5.73                  88.53   \n4           1              0                4.32                  25.47   \n5           0              5                3.49                  75.58   \n6         120           2057                1.83                  43.35   \n7           6            187                1.90                  71.32   \n8           6            137                1.09                  60.84   \n9           1             37                3.47                  88.75   \n\n   Deaths / 100 Recovered  Confirmed last week  1 week change  \\\n3                    6.48                  884             23   \n4                   16.94                  749            201   \n5                    4.62                   76             10   \n6                    4.21               130774          36642   \n7                    2.67                34981           2409   \n8                    1.79                12428           2875   \n9                    3.91                19743            815   \n\n   1 week % increase       WHO Region  \n3               2.60           Europe  \n4              26.84           Africa  \n5              13.16         Americas  \n6              28.02         Americas  \n7               6.89           Europe  \n8              23.13  Western Pacific  \n9               4.13           Europe  \nmenampilkan data dari 3-10:\n"
     ]
    }
   ],
   "source": [
    "import pandas as pd \n",
    "\n",
    "csv_data = pd.read_csv(\"country_wise_latest.csv\")\n",
    "\n",
    "print(csv_data.iloc[3:10])\n",
    "\n",
    "print(\"menampilkan data dari 3-10:\")\n",
    "\n"
   ]
  },
  {
   "cell_type": "code",
   "execution_count": null,
   "metadata": {},
   "outputs": [],
   "source": []
  }
 ]
}