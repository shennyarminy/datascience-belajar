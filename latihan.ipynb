{
 "cells": [
  {
   "cell_type": "code",
   "execution_count": 30,
   "metadata": {},
   "outputs": [
    {
     "name": "stderr",
     "output_type": "stream",
     "text": [
      "<ipython-input-30-b5347d8bcbce>:2: ParserWarning: Falling back to the 'python' engine because the 'c' engine does not support regex separators (separators > 1 char and different from '\\s+' are interpreted as regex); you can avoid this warning by specifying engine='python'.\n",
      "  df1 = pd.read_csv('BX-Books.csv', 'utf-8')\n"
     ]
    },
    {
     "name": "stdout",
     "output_type": "stream",
     "text": [
      "       \"ISBN\";\"Book-Title\";\"Book-Author\";\"Year-Of-Publication\";\"Publisher\";\"Image-URL-S\";\"Image-URL-M\";\"Image-URL-L\"\n",
      "0       \"0195153448\";\"Classical Mythology\";\"Mark P. O....                                                           \n",
      "1       \"0002005018\";\"Clara Callan\";\"Richard Bruce Wri...                                                           \n",
      "2       \"0060973129\";\"Decision in Normandy\";\"Carlo D'E...                                                           \n",
      "3       \"0374157065\";\"Flu: The Story of the Great Infl...                                                           \n",
      "4       \"0393045218\";\"The Mummies of Urumchi\";\"E. J. W...                                                           \n",
      "...                                                   ...                                                           \n",
      "271374  \"0440400988\";\"There's a Bat in Bunk Five\";\"Pau...                                                           \n",
      "271375  \"0525447644\";\"From One to One Hundred\";\"Teri S...                                                           \n",
      "271376  \"006008667X\";\"Lily Dale : The True Story of th...                                                           \n",
      "271377  \"0192126040\";\"Republic (World's Classics)\";\"Pl...                                                           \n",
      "271378  \"0767409752\";\"A Guided Tour of Rene Descartes'...                                                           \n",
      "\n",
      "[271379 rows x 1 columns]\n"
     ]
    }
   ],
   "source": [
    "import pandas as pd \n",
    "df1 = pd.read_csv('BX-Books.csv', 'utf-8')\n",
    "print(df1)"
   ]
  },
  {
   "cell_type": "code",
   "execution_count": null,
   "metadata": {},
   "outputs": [],
   "source": []
  }
 ],
 "metadata": {
  "kernelspec": {
   "display_name": "Python 3",
   "language": "python",
   "name": "python3"
  },
  "language_info": {
   "codemirror_mode": {
    "name": "ipython",
    "version": 3
   },
   "file_extension": ".py",
   "mimetype": "text/x-python",
   "name": "python",
   "nbconvert_exporter": "python",
   "pygments_lexer": "ipython3",
   "version": "3.8.3"
  }
 },
 "nbformat": 4,
 "nbformat_minor": 4
}
