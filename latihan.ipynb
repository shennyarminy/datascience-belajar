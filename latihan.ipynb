{
 "cells": [
  {
   "cell_type": "code",
   "execution_count": 2,
   "metadata": {},
   "outputs": [
    {
     "output_type": "stream",
     "name": "stdout",
     "text": [
      "       \"ISBN\";\"Book-Title\";\"Book-Author\";\"Year-Of-Publication\";\"Publisher\";\"Image-URL-S\";\"Image-URL-M\";\"Image-URL-L\"\n0       \"0195153448\";\"Classical Mythology\";\"Mark P. O....                                                           \n1       \"0002005018\";\"Clara Callan\";\"Richard Bruce Wri...                                                           \n2       \"0060973129\";\"Decision in Normandy\";\"Carlo D'E...                                                           \n3       \"0374157065\";\"Flu: The Story of the Great Infl...                                                           \n4       \"0393045218\";\"The Mummies of Urumchi\";\"E. J. W...                                                           \n...                                                   ...                                                           \n271374  \"0440400988\";\"There's a Bat in Bunk Five\";\"Pau...                                                           \n271375  \"0525447644\";\"From One to One Hundred\";\"Teri S...                                                           \n271376  \"006008667X\";\"Lily Dale : The True Story of th...                                                           \n271377  \"0192126040\";\"Republic (World's Classics)\";\"Pl...                                                           \n271378  \"0767409752\";\"A Guided Tour of Rene Descartes'...                                                           \n\n[271379 rows x 1 columns]\n"
     ]
    }
   ],
   "source": [
    "import pandas as pd \n",
    "df1 = pd.read_csv('BX-Books.csv', 'utf-8')\n",
    "print(df1)"
   ]
  },
  {
   "cell_type": "code",
   "execution_count": null,
   "metadata": {},
   "outputs": [],
   "source": []
  }
 ],
 "metadata": {
  "kernelspec": {
   "name": "Python 3.8.5 32-bit",
   "display_name": "Python 3.8.5 32-bit",
   "metadata": {
    "interpreter": {
     "hash": "7987c57931f2365761dc2a5f85e647decf73af6edff0c78918b92bfe7c5512ba"
    }
   }
  },
  "language_info": {
   "codemirror_mode": {
    "name": "ipython",
    "version": 3
   },
   "file_extension": ".py",
   "mimetype": "text/x-python",
   "name": "python",
   "nbconvert_exporter": "python",
   "pygments_lexer": "ipython3",
   "version": "3.8.5-final"
  }
 },
 "nbformat": 4,
 "nbformat_minor": 4
}