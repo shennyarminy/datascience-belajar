{
 "metadata": {
  "language_info": {
   "codemirror_mode": {
    "name": "ipython",
    "version": 3
   },
   "file_extension": ".py",
   "mimetype": "text/x-python",
   "name": "python",
   "nbconvert_exporter": "python",
   "pygments_lexer": "ipython3",
   "version": "3.8.5-final"
  },
  "orig_nbformat": 2,
  "kernelspec": {
   "name": "Python 3.8.5 32-bit",
   "display_name": "Python 3.8.5 32-bit",
   "metadata": {
    "interpreter": {
     "hash": "7987c57931f2365761dc2a5f85e647decf73af6edff0c78918b92bfe7c5512ba"
    }
   }
  }
 },
 "nbformat": 4,
 "nbformat_minor": 2,
 "cells": [
  {
   "cell_type": "code",
   "execution_count": 3,
   "metadata": {},
   "outputs": [
    {
     "output_type": "stream",
     "name": "stdout",
     "text": [
      "True\n"
     ]
    }
   ],
   "source": [
    "import pandas as pd \n",
    "\n",
    "csv_data = pd.read_csv(\"shopping_data.csv\")\n",
    "\n",
    "print(csv_data.isnull().values.any())"
   ]
  },
  {
   "cell_type": "code",
   "execution_count": 8,
   "metadata": {},
   "outputs": [
    {
     "output_type": "stream",
     "name": "stdout",
     "text": [
      "CustomerID                100.500000\nAge                        38.939698\nAnnual Income (k$)         61.005051\nSpending Score (1-100)     50.489899\ndtype: float64\nnilai missing\n   CustomerID   Genre   Age  Annual Income (k$)  Spending Score (1-100)\n0           1    Male  19.0                15.0                    39.0\n1           2    Male   NaN                15.0                    81.0\n2           3  Female  20.0                 NaN                     6.0\n3           4  Female  23.0                16.0                    77.0\n4           5  Female  31.0                17.0                     NaN\n"
     ]
    }
   ],
   "source": [
    "import pandas as pd \n",
    "csv_data = pd.read_csv(\"shopping_data.csv\")\n",
    "print (csv_data.mean())\n",
    "print (\"nilai missing\")\n",
    "print (csv_data.head())\n"
   ]
  },
  {
   "cell_type": "code",
   "execution_count": 10,
   "metadata": {},
   "outputs": [
    {
     "output_type": "stream",
     "name": "stdout",
     "text": [
      "Nilainya sudah di handling\n   CustomerID   Genre   Age  Annual Income (k$)  Spending Score (1-100)\n0           1    Male  19.0                15.0                    39.0\n1           2    Male  36.0                15.0                    81.0\n2           3  Female  20.0                62.0                     6.0\n3           4  Female  23.0                16.0                    77.0\n4           5  Female  31.0                17.0                    50.0\n"
     ]
    }
   ],
   "source": [
    "import pandas as pd \n",
    "csv_data = pd.read_csv(\"shopping_data.csv\")\n",
    "csv_data = csv_data.fillna(csv_data.median())\n",
    "print (\"Nilainya sudah di handling\")\n",
    "print (csv_data.head())"
   ]
  },
  {
   "cell_type": "code",
   "execution_count": null,
   "metadata": {},
   "outputs": [],
   "source": []
  }
 ]
}