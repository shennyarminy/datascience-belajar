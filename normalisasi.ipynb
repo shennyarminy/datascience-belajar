{
 "metadata": {
  "language_info": {
   "codemirror_mode": {
    "name": "ipython",
    "version": 3
   },
   "file_extension": ".py",
   "mimetype": "text/x-python",
   "name": "python",
   "nbconvert_exporter": "python",
   "pygments_lexer": "ipython3",
   "version": "3.8.5-final"
  },
  "orig_nbformat": 2,
  "kernelspec": {
   "name": "Python 3.8.5 32-bit",
   "display_name": "Python 3.8.5 32-bit",
   "metadata": {
    "interpreter": {
     "hash": "7987c57931f2365761dc2a5f85e647decf73af6edff0c78918b92bfe7c5512ba"
    }
   }
  }
 },
 "nbformat": 4,
 "nbformat_minor": 2,
 "cells": [
  {
   "cell_type": "code",
   "execution_count": 1,
   "metadata": {},
   "outputs": [
    {
     "output_type": "stream",
     "name": "stdout",
     "text": [
      "dataset sebelum dinormalisasi :\n  Customer ID  Gender  Age Income Spending Score\n0           1    Male   19     15             39\n1           2    Male  NaN     15             81\n2           3  Female   20    NaN              6\n3           4  Female   23     16             77\n4           5  Female   31     17            NaN\n5           6  Female   22    NaN             76\n6           7  Female   35     18              6\n7           8  Female   23     18             94\n8           9    Male   64     19            NaN\n9          10  Female   30     19             72\ndataset setelah dinormalisasi :\n        Age    Income  Spending Score Customer ID  Gender\n0  0.019231  0.000000        0.387755           1    Male\n1       NaN  0.000000        0.816327           2    Male\n2  0.038462       NaN        0.051020           3  Female\n3  0.096154  0.008197        0.775510           4  Female\n4  0.250000  0.016393             NaN           5  Female\n5  0.076923       NaN        0.765306           6  Female\n6  0.326923  0.024590        0.051020           7  Female\n7  0.096154  0.024590        0.948980           8  Female\n8  0.884615  0.032787             NaN           9    Male\n9  0.230769  0.032787        0.724490          10  Female\n"
     ]
    }
   ],
   "source": [
    "import pandas as pd\n",
    "import numpy as np\n",
    "import sklearn\n",
    "from sklearn import preprocessing \n",
    "\n",
    "csv_data = pd.read_csv(\"shopping_data.csv\")\n",
    "array = csv_data.values \n",
    "X = array[:,2:5] #memisahkan fitur dari dataset.\n",
    "Y = array[:,0:1]  #memisahkan class dari dataset\n",
    "\n",
    "dataset=pd.DataFrame({'Customer ID':array[:,0],'Gender':array[:,1],'Age':array[:,2],'Income':array[:,3],'Spending Score':array[:,4]})\n",
    "print(\"dataset sebelum dinormalisasi :\")\n",
    "print(dataset.head(10))\n",
    "\n",
    "min_max_scaler = preprocessing.MinMaxScaler(feature_range=(0,1)) #inisialisasi normalisasi MinMax\n",
    "data = min_max_scaler.fit_transform(X) #transformasi MinMax untuk fitur\n",
    "dataset = pd.DataFrame({'Age':data[:,0],'Income':data[:,1],'Spending Score':data[:,2],'Customer ID':array[:,0],'Gender':array[:,1]})\n",
    "\n",
    "print(\"dataset setelah dinormalisasi :\")\n",
    "print(dataset.head(10))\n",
    "\n"
   ]
  },
  {
   "cell_type": "code",
   "execution_count": null,
   "metadata": {},
   "outputs": [],
   "source": []
  }
 ]
}