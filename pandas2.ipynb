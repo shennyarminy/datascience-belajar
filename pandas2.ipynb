{
 "metadata": {
  "language_info": {
   "codemirror_mode": {
    "name": "ipython",
    "version": 3
   },
   "file_extension": ".py",
   "mimetype": "text/x-python",
   "name": "python",
   "nbconvert_exporter": "python",
   "pygments_lexer": "ipython3",
   "version": "3.8.5-final"
  },
  "orig_nbformat": 2,
  "kernelspec": {
   "name": "Python 3.8.5 32-bit",
   "display_name": "Python 3.8.5 32-bit",
   "metadata": {
    "interpreter": {
     "hash": "7987c57931f2365761dc2a5f85e647decf73af6edff0c78918b92bfe7c5512ba"
    }
   }
  }
 },
 "nbformat": 4,
 "nbformat_minor": 2,
 "cells": [
  {
   "cell_type": "code",
   "execution_count": 2,
   "metadata": {},
   "outputs": [
    {
     "output_type": "stream",
     "name": "stdout",
     "text": [
      "          Confirmed         Deaths  ...  1 week change  1 week % increase\ncount  1.870000e+02     187.000000  ...     187.000000         187.000000\nmean   8.813094e+04    3497.518717  ...    9448.459893          13.606203\nstd    3.833187e+05   14100.002482  ...   47491.127684          24.509838\nmin    1.000000e+01       0.000000  ...     -47.000000          -3.840000\n25%    1.114000e+03      18.500000  ...      49.000000           2.775000\n50%    5.059000e+03     108.000000  ...     432.000000           6.890000\n75%    4.046050e+04     734.000000  ...    3172.000000          16.855000\nmax    4.290259e+06  148011.000000  ...  455582.000000         226.320000\n\n[8 rows x 13 columns]\n"
     ]
    }
   ],
   "source": [
    "import pandas as pd \n",
    "\n",
    "csv_data = pd.read_csv(\"country_wise_latest.csv\")\n",
    "\n",
    "print(csv_data.describe(exclude=['O']))"
   ]
  },
  {
   "cell_type": "code",
   "execution_count": null,
   "metadata": {},
   "outputs": [],
   "source": []
  }
 ]
}