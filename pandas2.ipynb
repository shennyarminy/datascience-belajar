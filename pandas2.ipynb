{
 "metadata": {
  "language_info": {
   "codemirror_mode": {
    "name": "ipython",
    "version": 3
   },
   "file_extension": ".py",
   "mimetype": "text/x-python",
   "name": "python",
   "nbconvert_exporter": "python",
   "pygments_lexer": "ipython3",
   "version": "3.8.5-final"
  },
  "orig_nbformat": 2,
  "kernelspec": {
   "name": "Python 3.8.5 32-bit",
   "display_name": "Python 3.8.5 32-bit",
   "metadata": {
    "interpreter": {
     "hash": "7987c57931f2365761dc2a5f85e647decf73af6edff0c78918b92bfe7c5512ba"
    }
   }
  }
 },
 "nbformat": 4,
 "nbformat_minor": 2,
 "cells": [
  {
   "cell_type": "code",
   "execution_count": 2,
   "metadata": {},
   "outputs": [
    {
     "output_type": "stream",
     "name": "stdout",
     "text": [
      "          Confirmed         Deaths     Recovered        Active     New cases  \\\ncount  1.870000e+02     187.000000  1.870000e+02  1.870000e+02    187.000000   \nmean   8.813094e+04    3497.518717  5.063148e+04  3.400194e+04   1222.957219   \nstd    3.833187e+05   14100.002482  1.901882e+05  2.133262e+05   5710.374790   \nmin    1.000000e+01       0.000000  0.000000e+00  0.000000e+00      0.000000   \n25%    1.114000e+03      18.500000  6.265000e+02  1.415000e+02      4.000000   \n50%    5.059000e+03     108.000000  2.815000e+03  1.600000e+03     49.000000   \n75%    4.046050e+04     734.000000  2.260600e+04  9.149000e+03    419.500000   \nmax    4.290259e+06  148011.000000  1.846641e+06  2.816444e+06  56336.000000   \n\n        New deaths  New recovered  Deaths / 100 Cases  Recovered / 100 Cases  \\\ncount   187.000000     187.000000          187.000000             187.000000   \nmean     28.957219     933.812834            3.019519              64.820535   \nstd     120.037173    4197.719635            3.454302              26.287694   \nmin       0.000000       0.000000            0.000000               0.000000   \n25%       0.000000       0.000000            0.945000              48.770000   \n50%       1.000000      22.000000            2.150000              71.320000   \n75%       6.000000     221.000000            3.875000              86.885000   \nmax    1076.000000   33728.000000           28.560000             100.000000   \n\n       Deaths / 100 Recovered  Confirmed last week  1 week change  \\\ncount                  187.00         1.870000e+02     187.000000   \nmean                      inf         7.868248e+04    9448.459893   \nstd                       NaN         3.382737e+05   47491.127684   \nmin                      0.00         1.000000e+01     -47.000000   \n25%                      1.45         1.051500e+03      49.000000   \n50%                      3.62         5.020000e+03     432.000000   \n75%                      6.44         3.708050e+04    3172.000000   \nmax                       inf         3.834677e+06  455582.000000   \n\n       1 week % increase  \ncount         187.000000  \nmean           13.606203  \nstd            24.509838  \nmin            -3.840000  \n25%             2.775000  \n50%             6.890000  \n75%            16.855000  \nmax           226.320000  \n"
     ]
    }
   ],
   "source": [
    "import pandas as pd \n",
    "\n",
    "csv_data = pd.read_csv(\"country_wise_latest.csv\")\n",
    "\n",
    "print(csv_data.describe(exclude=['O']))"
   ]
  },
  {
   "cell_type": "code",
   "execution_count": null,
   "metadata": {},
   "outputs": [],
   "source": []
  }
 ]
}